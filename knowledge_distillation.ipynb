{
 "cells": [
  {
   "cell_type": "code",
   "execution_count": null,
   "id": "9c98fc0a",
   "metadata": {},
   "outputs": [],
   "source": [
    "import sagemaker\n",
    "import boto3\n",
    "sess = sagemaker.Session()\n",
    "# sagemaker session bucket -> used for uploading data, models and logs\n",
    "# sagemaker will automatically create this bucket if it not exists\n",
    "sagemaker_session_bucket=None\n",
    "if sagemaker_session_bucket is None and sess is not None:\n",
    "    # set to default bucket if a bucket name is not given\n",
    "    sagemaker_session_bucket = sess.default_bucket()\n",
    "\n",
    "try:\n",
    "    role = sagemaker.get_execution_role()\n",
    "except ValueError:\n",
    "    iam = boto3.client('iam')\n",
    "    role = \"your role\"\n",
    "\n",
    "sess = sagemaker.Session(default_bucket=sagemaker_session_bucket)\n",
    "\n",
    "print(f\"sagemaker role arn: {role}\")\n",
    "print(f\"sagemaker bucket: {sess.default_bucket()}\")\n",
    "print(f\"sagemaker session region: {sess.boto_region_name}\")"
   ]
  },
  {
   "cell_type": "code",
   "execution_count": null,
   "id": "3a2282e3",
   "metadata": {},
   "outputs": [],
   "source": [
    "from sagemaker.huggingface import HuggingFace\n",
    "from huggingface_hub import HfFolder\n",
    "\n",
    "# hyperparameters, which are passed into the training job\n",
    "hyperparameters={\n",
    "    'teacher_id':'mariagrandury/roberta-base-finetuned-sms-spam-detection',           \n",
    "    'student_id':'nreimers/MiniLMv2-L12-H384-distilled-from-RoBERTa-Large',           \n",
    "    'dataset_id':'sms_spam',           \n",
    "    'dataset_config':'plain_text',             \n",
    "    'epochs': 6,             \n",
    "    # distillation parameter\n",
    "    'alpha': 0.055199695773231194, # 0.5,\n",
    "    'temparature': 19, # 4 \n",
    "    'learning_rate': 1e-4, # 3e-5\n",
    "    # hpo parameter\n",
    "    \"run_hpo\": False,\n",
    "    \"n_trials\": 100,   \n",
    "    # push to hub config\n",
    "    'push_to_hub': True,                            \n",
    "    'hub_model_id': 'MiniLMv2-L12-H384-distilled-finetuned-spam-detection', \n",
    "    'hub_token': \"\"    \n",
    "}\n",
    "\n",
    "# define Training Job Name \n",
    "job_name = f'knowledge-distillation'\n",
    "\n",
    "# create the Estimator\n",
    "huggingface_estimator = HuggingFace(\n",
    "    entry_point          = 'train.py',        \n",
    "    source_dir           = './scripts',       \n",
    "    instance_type        = 'ml.p2.xlarge',   \n",
    "    instance_count       = 1,                 \n",
    "    role                 = role,    \n",
    "    base_job_name        = job_name, \n",
    "    transformers_version = '4.17',            \n",
    "    pytorch_version      = '1.10',             \n",
    "    py_version           = 'py38',            \n",
    "    hyperparameters      = hyperparameters,   \n",
    ")"
   ]
  },
  {
   "cell_type": "code",
   "execution_count": null,
   "id": "29cd9ec9",
   "metadata": {},
   "outputs": [],
   "source": [
    "huggingface_estimator.fit(wait=False)"
   ]
  },
  {
   "cell_type": "code",
   "execution_count": null,
   "id": "3ad9e29e",
   "metadata": {},
   "outputs": [],
   "source": [
    "predictor =huggingface_estimator.deploy(1,\"ml.c5.xlarge\")"
   ]
  },
  {
   "cell_type": "code",
   "execution_count": null,
   "id": "8753339f",
   "metadata": {},
   "outputs": [],
   "source": [
    "sentiment_input= {\"inputs\": \"your input\"}\n",
    "\n",
    "for i in range(1000):\n",
    "    predictor.predict(sentiment_input)"
   ]
  },
  {
   "cell_type": "code",
   "execution_count": null,
   "id": "0f6b9fb8",
   "metadata": {},
   "outputs": [],
   "source": [
    "https://us-east-1.console.aws.amazon.com/cloudwatch/home?region=us-east-1#metricsV2:graph=~(metrics~(~(~'AWS*2fSageMaker~'ModelLatency~'EndpointName~'knowledge-distillation-2022-06-02-13-25-41-341~'VariantName~'AllTraffic))~view~'timeSeries~stacked~false~region~'us-east-1~start~'-PT1H~end~'P0D~stat~'p99~period~30);query=~'*7bAWS*2fSageMaker*2cEndpointName*2cVariantName*7d*20"
   ]
  },
  {
   "cell_type": "code",
   "execution_count": null,
   "id": "91594eb1",
   "metadata": {},
   "outputs": [],
   "source": [
    "predictor =huggingface_estimator.deploy(1,\"ml.p2.xlarge\")"
   ]
  },
  {
   "cell_type": "code",
   "execution_count": null,
   "id": "43176a90",
   "metadata": {},
   "outputs": [],
   "source": []
  },
  {
   "cell_type": "code",
   "execution_count": null,
   "id": "44c94b81",
   "metadata": {},
   "outputs": [],
   "source": []
  }
 ],
 "metadata": {
  "kernelspec": {
   "display_name": "Python 3 (ipykernel)",
   "language": "python",
   "name": "python3"
  },
  "language_info": {
   "codemirror_mode": {
    "name": "ipython",
    "version": 3
   },
   "file_extension": ".py",
   "mimetype": "text/x-python",
   "name": "python",
   "nbconvert_exporter": "python",
   "pygments_lexer": "ipython3",
   "version": "3.8.6"
  }
 },
 "nbformat": 4,
 "nbformat_minor": 5
}
